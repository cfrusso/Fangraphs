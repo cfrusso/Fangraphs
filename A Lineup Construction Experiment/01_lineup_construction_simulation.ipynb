{
 "cells": [
  {
   "cell_type": "code",
   "execution_count": 1,
   "metadata": {},
   "outputs": [],
   "source": [
    "import random\n",
    "import itertools\n",
    "import numpy as np\n",
    "import matplotlib.pyplot as plt"
   ]
  },
  {
   "cell_type": "code",
   "execution_count": 2,
   "metadata": {},
   "outputs": [],
   "source": [
    "paDict = {\"DH\":100, \"C\":100, \"1B\":100, \"2B\":100, \"3B\":100, \"SS\":100, \"LF\":100, \"CF\":100, \"RF\":100}\n",
    "hitDict = {\"DH\":29, \"C\":22, \"1B\":32, \"2B\":33, \"3B\":27, \"SS\":23, \"LF\":25, \"CF\":24, \"RF\":29}\n",
    "doubleDict = {\"DH\":6, \"C\":2, \"1B\":6, \"2B\":3, \"3B\":4, \"SS\":1, \"LF\":3, \"CF\":2, \"RF\":6}\n",
    "tripleDict = {\"DH\":0, \"C\":0, \"1B\":0, \"2B\":1, \"3B\":1, \"SS\":1, \"LF\":1, \"CF\":1, \"RF\":1}\n",
    "homerDict = {\"DH\":7, \"C\":4, \"1B\":5, \"2B\":0, \"3B\":2, \"SS\":1, \"LF\":3, \"CF\":2, \"RF\":4}\n",
    "walkDict = {\"DH\":7, \"C\":5, \"1B\":7, \"2B\":1, \"3B\":10, \"SS\":6, \"LF\":6, \"CF\":5, \"RF\":5}\n",
    "hbpDict = {\"DH\":1, \"C\":2, \"1B\":1, \"2B\":1, \"3B\":2, \"SS\":1, \"LF\":2, \"CF\":2, \"RF\":1}"
   ]
  },
  {
   "cell_type": "code",
   "execution_count": 3,
   "metadata": {},
   "outputs": [],
   "source": [
    "lineup = [\"C\",\"1B\",\"2B\",\"3B\",\"SS\",\"LF\",\"CF\",\"RF\",\"DH\"]"
   ]
  },
  {
   "cell_type": "code",
   "execution_count": 4,
   "metadata": {},
   "outputs": [],
   "source": [
    "def getSlash(lineup):\n",
    "    for batter in lineup:\n",
    "        PA = paDict[batter]\n",
    "        Hits = hitDict[batter]\n",
    "        Doubles = doubleDict[batter]\n",
    "        Triples = tripleDict[batter]\n",
    "        Homers = homerDict[batter]\n",
    "        Walks = walkDict[batter]\n",
    "        HBP = hbpDict[batter]\n",
    "        Singles = Hits - Doubles - Triples - Homers\n",
    "        avg = round(Hits / (PA - Walks - HBP),3)\n",
    "        obp = round((Hits + Walks + HBP) / PA,3)\n",
    "        slg = round((Singles + 2*Doubles + 3*Triples + 4*Homers) / (PA - Walks - HBP),3)\n",
    "        print(str(batter) + \": \" + str(avg) + \"/\" + str(obp) + \"/\" + str(slg))"
   ]
  },
  {
   "cell_type": "code",
   "execution_count": 5,
   "metadata": {},
   "outputs": [],
   "source": [
    "def getProbs(batter):\n",
    "    PA = paDict[batter]\n",
    "    Hits = hitDict[batter]\n",
    "    Doubles = doubleDict[batter]\n",
    "    Triples = tripleDict[batter]\n",
    "    Homers = homerDict[batter]\n",
    "    Walks = walkDict[batter]\n",
    "    HBP = hbpDict[batter]\n",
    "    Singles = Hits - Doubles - Triples - Homers\n",
    "    singleProb = float(Singles)/PA\n",
    "    doubleProb = float(Doubles)/PA\n",
    "    tripleProb = float(Triples)/PA\n",
    "    homerProb = float(Homers)/PA\n",
    "    walkProb = float(Walks)/PA\n",
    "    hbpProb = float(HBP)/PA\n",
    "    outProb = 1.0 - singleProb - doubleProb - tripleProb - homerProb - walkProb - hbpProb\n",
    "    return singleProb, doubleProb, tripleProb, homerProb, walkProb, hbpProb, outProb"
   ]
  },
  {
   "cell_type": "code",
   "execution_count": 6,
   "metadata": {},
   "outputs": [],
   "source": [
    "def getOutcome(batter):\n",
    "    #use batter probabilities to get outcome:\n",
    "    #1B,2B,3B,HR,BB,HBP,OUT\n",
    "    #later add SF,GDP,SB,RBI Groundout, etc.\n",
    "    (single,double,triple,homer,walk,hbp,out) = getProbs(batter)\n",
    "    double = single + double\n",
    "    triple = double + triple\n",
    "    homer = triple + homer\n",
    "    walk = homer + walk\n",
    "    hbp = walk + hbp\n",
    "    out = hbp + out\n",
    "    r = random.uniform(0,1)\n",
    "    if r <= single:\n",
    "        outcome = \"1B\"\n",
    "    else:\n",
    "        if r <= double:\n",
    "            outcome = \"2B\"\n",
    "        else:\n",
    "            if r <= triple:\n",
    "                outcome = \"3B\"\n",
    "            else:\n",
    "                if r <= homer:\n",
    "                    outcome = \"HR\"\n",
    "                else:\n",
    "                    if r <= walk:\n",
    "                        outcome = \"BB\"\n",
    "                    else:\n",
    "                        if r <= hbp:\n",
    "                            outcome = \"HBP\"\n",
    "                        else:\n",
    "                            outcome = \"OUT\"\n",
    "\n",
    "    #print (batter,outcome)\n",
    "    return outcome"
   ]
  },
  {
   "cell_type": "code",
   "execution_count": 7,
   "metadata": {},
   "outputs": [],
   "source": [
    "def AtBat(batter,runners):\n",
    "    outcome = getOutcome(batter)\n",
    "    if outcome == \"1B\":\n",
    "        if runners == 0:\n",
    "            return (0,0,1)\n",
    "        elif runners == 1:\n",
    "            return (0,0,4)\n",
    "        elif runners == 2:\n",
    "            return (0,0,5)\n",
    "        elif runners == 3:\n",
    "            return (1,0,1)\n",
    "        elif runners == 4:\n",
    "            return (0,0,7)\n",
    "        elif runners == 5:\n",
    "            return (1,0,4)\n",
    "        elif runners == 6:\n",
    "            return (1,0,5)\n",
    "        else:\n",
    "            return (1,0,7)\n",
    "    elif outcome == \"2B\":\n",
    "        if runners == 0:\n",
    "            return (0,0,2)\n",
    "        elif runners == 1:\n",
    "            return (0,0,6)\n",
    "        elif runners == 2:\n",
    "            return (1,0,2)\n",
    "        elif runners == 3:\n",
    "            return (1,0,2)\n",
    "        elif runners == 4:\n",
    "            return (1,0,6)\n",
    "        elif runners == 5:\n",
    "            return (1,0,6)\n",
    "        elif runners == 6:\n",
    "            return (2,0,2)\n",
    "        else:\n",
    "            return (2,0,6)\n",
    "    elif outcome == \"3B\":\n",
    "        if runners == 0:\n",
    "            return (0,0,3)\n",
    "        elif runners == 1:\n",
    "            return (1,0,3)\n",
    "        elif runners == 2:\n",
    "            return (1,0,3)\n",
    "        elif runners == 3:\n",
    "            return (1,0,3)\n",
    "        elif runners == 4:\n",
    "            return (2,0,3)\n",
    "        elif runners == 5:\n",
    "            return (2,0,3)\n",
    "        elif runners == 6:\n",
    "            return (2,0,3)\n",
    "        else:\n",
    "            return (3,0,3)\n",
    "    elif outcome == \"HR\":\n",
    "        if runners == 0:\n",
    "            return (1,0,0)\n",
    "        elif runners == 1:\n",
    "            return (2,0,0)\n",
    "        elif runners == 2:\n",
    "            return (2,0,0)\n",
    "        elif runners == 3:\n",
    "            return (2,0,0)\n",
    "        elif runners == 4:\n",
    "            return (3,0,0)\n",
    "        elif runners == 5:\n",
    "            return (3,0,0)\n",
    "        elif runners == 6:\n",
    "            return (3,0,0)\n",
    "        else:\n",
    "            return (4,0,0)\n",
    "    elif outcome == \"BB\" or outcome == \"HBP\":\n",
    "        if runners == 0:\n",
    "            return (0,0,1)\n",
    "        elif runners == 1:\n",
    "            return (0,0,4)\n",
    "        elif runners == 2:\n",
    "            return (0,0,4)\n",
    "        elif runners == 3:\n",
    "            return (0,0,5)\n",
    "        elif runners == 4:\n",
    "            return (0,0,7)\n",
    "        elif runners == 5:\n",
    "            return (0,0,7)\n",
    "        elif runners == 6:\n",
    "            return (0,0,7)\n",
    "        else:\n",
    "            return (1,0,7)\n",
    "    else:\n",
    "        return (0,1,runners)"
   ]
  },
  {
   "cell_type": "code",
   "execution_count": 8,
   "metadata": {},
   "outputs": [],
   "source": [
    "def SimGame(lineup):\n",
    "    i = 0\n",
    "    runs = 0\n",
    "    outs = 0\n",
    "    runners = 0\n",
    "    inning = 1\n",
    "    while inning <= 9:\n",
    "        outs = 0\n",
    "        runners = 0\n",
    "        while outs < 3:\n",
    "            batter = lineup[i]\n",
    "            # takes in batter, runners on base\n",
    "            # returns runs scored, outs recorded on play, ending baserunners\n",
    "            (add_runs,add_outs,runners) = AtBat(batter,runners)\n",
    "            if i == 8:\n",
    "                i = 0\n",
    "            else:\n",
    "                i += 1\n",
    "            runs += add_runs\n",
    "            outs += add_outs\n",
    "        #print(\"End inning \",inning,runs,\"runs\")\n",
    "        inning += 1\n",
    "    #print (runs)\n",
    "    return runs"
   ]
  },
  {
   "cell_type": "code",
   "execution_count": 9,
   "metadata": {},
   "outputs": [],
   "source": [
    "def SimGames(lineup,n):\n",
    "    run_list = []\n",
    "    for i in range(0,n):\n",
    "        run_list.append(SimGame(lineup))\n",
    "    return run_list"
   ]
  },
  {
   "cell_type": "code",
   "execution_count": 10,
   "metadata": {},
   "outputs": [
    {
     "name": "stdout",
     "output_type": "stream",
     "text": [
      "C: 0.237/0.29/0.387\n",
      "1B: 0.348/0.4/0.576\n",
      "2B: 0.337/0.35/0.388\n",
      "3B: 0.307/0.39/0.443\n",
      "SS: 0.247/0.3/0.312\n",
      "LF: 0.272/0.33/0.424\n",
      "CF: 0.258/0.31/0.366\n",
      "RF: 0.309/0.35/0.521\n",
      "DH: 0.315/0.37/0.609\n"
     ]
    }
   ],
   "source": [
    "getSlash(lineup)"
   ]
  },
  {
   "cell_type": "code",
   "execution_count": 11,
   "metadata": {},
   "outputs": [],
   "source": [
    "lineup_modern = [\"3B\",\"1B\",\"DH\",\"RF\",\"2B\",\"LF\",\"CF\",\"C\",\"SS\"]\n",
    "lineup_traditional = [\"3B\",\"2B\",\"1B\",\"DH\",\"RF\",\"LF\",\"CF\",\"C\",\"SS\"]\n",
    "lineup_bad = [\"C\",\"SS\",\"CF\",\"LF\",\"2B\",\"RF\",\"3B\",\"DH\",\"1B\"]"
   ]
  },
  {
   "cell_type": "code",
   "execution_count": 12,
   "metadata": {},
   "outputs": [],
   "source": [
    "run_list_modern = SimGames(lineup_modern, 100000)\n",
    "run_list_traditional = SimGames(lineup_traditional, 100000)\n",
    "run_list_bad = SimGames(lineup_bad, 100000)"
   ]
  },
  {
   "cell_type": "code",
   "execution_count": 13,
   "metadata": {},
   "outputs": [
    {
     "data": {
      "text/plain": [
       "4.27945"
      ]
     },
     "execution_count": 13,
     "metadata": {},
     "output_type": "execute_result"
    }
   ],
   "source": [
    "np.mean(run_list_modern)"
   ]
  },
  {
   "cell_type": "code",
   "execution_count": 14,
   "metadata": {},
   "outputs": [
    {
     "data": {
      "text/plain": [
       "4.28276"
      ]
     },
     "execution_count": 14,
     "metadata": {},
     "output_type": "execute_result"
    }
   ],
   "source": [
    "np.mean(run_list_traditional)"
   ]
  },
  {
   "cell_type": "code",
   "execution_count": 15,
   "metadata": {},
   "outputs": [
    {
     "data": {
      "text/plain": [
       "4.12169"
      ]
     },
     "execution_count": 15,
     "metadata": {},
     "output_type": "execute_result"
    }
   ],
   "source": [
    "np.mean(run_list_bad)"
   ]
  },
  {
   "cell_type": "code",
   "execution_count": 18,
   "metadata": {},
   "outputs": [
    {
     "data": {
      "image/png": "[encoded data removed]",
      "text/plain": [
       "<Figure size 1440x360 with 1 Axes>"
      ]
     },
     "metadata": {
      "needs_background": "light"
     },
     "output_type": "display_data"
    }
   ],
   "source": [
    "plt.figure(figsize = (20,5))\n",
    "plt.xlabel('Runs Scored', fontsize = 20)\n",
    "plt.title('Distribution of Runs Per Game By Lineup', fontsize = 25)\n",
    "plt.hist([run_list_modern,run_list_traditional,run_list_bad], label = ['Lineup 1','Lineup 2','Lineup 3'],\n",
    "         bins = np.max([run_list_modern,run_list_traditional,run_list_bad]))\n",
    "plt.legend(loc='upper right', fontsize = 20)\n",
    "plt.show();"
   ]
  },
  {
   "cell_type": "code",
   "execution_count": null,
   "metadata": {},
   "outputs": [],
   "source": []
  }
 ],
 "metadata": {
  "kernelspec": {
   "display_name": "Python 3",
   "language": "python",
   "name": "python3"
  },
  "language_info": {
   "codemirror_mode": {
    "name": "ipython",
    "version": 3
   },
   "file_extension": ".py",
   "mimetype": "text/x-python",
   "name": "python",
   "nbconvert_exporter": "python",
   "pygments_lexer": "ipython3",
   "version": "3.7.6"
  }
 },
 "nbformat": 4,
 "nbformat_minor": 4
}
