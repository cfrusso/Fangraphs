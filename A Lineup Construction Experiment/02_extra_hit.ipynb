{
 "cells": [
  {
   "cell_type": "code",
   "execution_count": 1,
   "metadata": {},
   "outputs": [],
   "source": [
    "import random\n",
    "import itertools\n",
    "import numpy as np\n",
    "import matplotlib.pyplot as plt"
   ]
  },
  {
   "cell_type": "code",
   "execution_count": 2,
   "metadata": {},
   "outputs": [],
   "source": [
    "paDict = {\"DH\":100, \"C\":100, \"1B\":100, \"2B\":100, \"3B\":100, \"SS\":100, \"LF\":100, \"CF\":100, \"RF\":100}\n",
    "hitDict = {\"DH\":30, \"C\":23, \"1B\":33, \"2B\":34, \"3B\":28, \"SS\":24, \"LF\":26, \"CF\":25, \"RF\":30}\n",
    "doubleDict = {\"DH\":6, \"C\":2, \"1B\":6, \"2B\":3, \"3B\":4, \"SS\":1, \"LF\":3, \"CF\":2, \"RF\":6}\n",
    "tripleDict = {\"DH\":0, \"C\":0, \"1B\":0, \"2B\":1, \"3B\":1, \"SS\":1, \"LF\":1, \"CF\":1, \"RF\":1}\n",
    "homerDict = {\"DH\":7, \"C\":4, \"1B\":5, \"2B\":0, \"3B\":2, \"SS\":1, \"LF\":3, \"CF\":2, \"RF\":4}\n",
    "walkDict = {\"DH\":7, \"C\":5, \"1B\":7, \"2B\":1, \"3B\":10, \"SS\":6, \"LF\":6, \"CF\":5, \"RF\":5}\n",
    "hbpDict = {\"DH\":1, \"C\":2, \"1B\":1, \"2B\":1, \"3B\":2, \"SS\":1, \"LF\":2, \"CF\":2, \"RF\":1}"
   ]
  },
  {
   "cell_type": "code",
   "execution_count": 3,
   "metadata": {},
   "outputs": [],
   "source": [
    "lineup = [\"3B\",\"1B\",\"DH\",\"RF\",\"2B\",\"LF\",\"CF\",\"C\",\"SS\"]"
   ]
  },
  {
   "cell_type": "code",
   "execution_count": 4,
   "metadata": {},
   "outputs": [],
   "source": [
    "def getSlash(lineup):\n",
    "    for batter in lineup:\n",
    "        PA = paDict[batter]\n",
    "        Hits = hitDict[batter]\n",
    "        Doubles = doubleDict[batter]\n",
    "        Triples = tripleDict[batter]\n",
    "        Homers = homerDict[batter]\n",
    "        Walks = walkDict[batter]\n",
    "        HBP = hbpDict[batter]\n",
    "        Singles = Hits - Doubles - Triples - Homers\n",
    "        avg = round(Hits / (PA - Walks - HBP),3)\n",
    "        obp = round((Hits + Walks + HBP) / PA,3)\n",
    "        slg = round((Singles + 2*Doubles + 3*Triples + 4*Homers) / (PA - Walks - HBP),3)\n",
    "        print(str(batter) + \": \" + str(avg) + \"/\" + str(obp) + \"/\" + str(slg))"
   ]
  },
  {
   "cell_type": "code",
   "execution_count": 5,
   "metadata": {},
   "outputs": [],
   "source": [
    "def getProbs(batter):\n",
    "    PA = paDict[batter]\n",
    "    Hits = hitDict[batter]\n",
    "    Doubles = doubleDict[batter]\n",
    "    Triples = tripleDict[batter]\n",
    "    Homers = homerDict[batter]\n",
    "    Walks = walkDict[batter]\n",
    "    HBP = hbpDict[batter]\n",
    "    Singles = Hits - Doubles - Triples - Homers\n",
    "    singleProb = float(Singles)/PA\n",
    "    doubleProb = float(Doubles)/PA\n",
    "    tripleProb = float(Triples)/PA\n",
    "    homerProb = float(Homers)/PA\n",
    "    walkProb = float(Walks)/PA\n",
    "    hbpProb = float(HBP)/PA\n",
    "    outProb = 1.0 - singleProb - doubleProb - tripleProb - homerProb - walkProb - hbpProb\n",
    "    return singleProb, doubleProb, tripleProb, homerProb, walkProb, hbpProb, outProb"
   ]
  },
  {
   "cell_type": "code",
   "execution_count": 6,
   "metadata": {},
   "outputs": [],
   "source": [
    "def getOutcome(batter):\n",
    "    #use batter probabilities to get outcome:\n",
    "    #1B,2B,3B,HR,BB,HBP,OUT\n",
    "    #later add SF,GDP,SB,RBI Groundout, etc.\n",
    "    (single,double,triple,homer,walk,hbp,out) = getProbs(batter)\n",
    "    double = single + double\n",
    "    triple = double + triple\n",
    "    homer = triple + homer\n",
    "    walk = homer + walk\n",
    "    hbp = walk + hbp\n",
    "    out = hbp + out\n",
    "    r = random.uniform(0,1)\n",
    "    if r <= single:\n",
    "        outcome = \"1B\"\n",
    "    else:\n",
    "        if r <= double:\n",
    "            outcome = \"2B\"\n",
    "        else:\n",
    "            if r <= triple:\n",
    "                outcome = \"3B\"\n",
    "            else:\n",
    "                if r <= homer:\n",
    "                    outcome = \"HR\"\n",
    "                else:\n",
    "                    if r <= walk:\n",
    "                        outcome = \"BB\"\n",
    "                    else:\n",
    "                        if r <= hbp:\n",
    "                            outcome = \"HBP\"\n",
    "                        else:\n",
    "                            outcome = \"OUT\"\n",
    "\n",
    "    #print (batter,outcome)\n",
    "    return outcome"
   ]
  },
  {
   "cell_type": "code",
   "execution_count": 7,
   "metadata": {},
   "outputs": [],
   "source": [
    "def AtBat(batter,runners):\n",
    "    outcome = getOutcome(batter)\n",
    "    if outcome == \"1B\":\n",
    "        if runners == 0:\n",
    "            return (0,0,1)\n",
    "        elif runners == 1:\n",
    "            return (0,0,4)\n",
    "        elif runners == 2:\n",
    "            return (0,0,5)\n",
    "        elif runners == 3:\n",
    "            return (1,0,1)\n",
    "        elif runners == 4:\n",
    "            return (0,0,7)\n",
    "        elif runners == 5:\n",
    "            return (1,0,4)\n",
    "        elif runners == 6:\n",
    "            return (1,0,5)\n",
    "        else:\n",
    "            return (1,0,7)\n",
    "    elif outcome == \"2B\":\n",
    "        if runners == 0:\n",
    "            return (0,0,2)\n",
    "        elif runners == 1:\n",
    "            return (0,0,6)\n",
    "        elif runners == 2:\n",
    "            return (1,0,2)\n",
    "        elif runners == 3:\n",
    "            return (1,0,2)\n",
    "        elif runners == 4:\n",
    "            return (1,0,6)\n",
    "        elif runners == 5:\n",
    "            return (1,0,6)\n",
    "        elif runners == 6:\n",
    "            return (2,0,2)\n",
    "        else:\n",
    "            return (2,0,6)\n",
    "    elif outcome == \"3B\":\n",
    "        if runners == 0:\n",
    "            return (0,0,3)\n",
    "        elif runners == 1:\n",
    "            return (1,0,3)\n",
    "        elif runners == 2:\n",
    "            return (1,0,3)\n",
    "        elif runners == 3:\n",
    "            return (1,0,3)\n",
    "        elif runners == 4:\n",
    "            return (2,0,3)\n",
    "        elif runners == 5:\n",
    "            return (2,0,3)\n",
    "        elif runners == 6:\n",
    "            return (2,0,3)\n",
    "        else:\n",
    "            return (3,0,3)\n",
    "    elif outcome == \"HR\":\n",
    "        if runners == 0:\n",
    "            return (1,0,0)\n",
    "        elif runners == 1:\n",
    "            return (2,0,0)\n",
    "        elif runners == 2:\n",
    "            return (2,0,0)\n",
    "        elif runners == 3:\n",
    "            return (2,0,0)\n",
    "        elif runners == 4:\n",
    "            return (3,0,0)\n",
    "        elif runners == 5:\n",
    "            return (3,0,0)\n",
    "        elif runners == 6:\n",
    "            return (3,0,0)\n",
    "        else:\n",
    "            return (4,0,0)\n",
    "    elif outcome == \"BB\" or outcome == \"HBP\":\n",
    "        if runners == 0:\n",
    "            return (0,0,1)\n",
    "        elif runners == 1:\n",
    "            return (0,0,4)\n",
    "        elif runners == 2:\n",
    "            return (0,0,4)\n",
    "        elif runners == 3:\n",
    "            return (0,0,5)\n",
    "        elif runners == 4:\n",
    "            return (0,0,7)\n",
    "        elif runners == 5:\n",
    "            return (0,0,7)\n",
    "        elif runners == 6:\n",
    "            return (0,0,7)\n",
    "        else:\n",
    "            return (1,0,7)\n",
    "    else:\n",
    "        return (0,1,runners)"
   ]
  },
  {
   "cell_type": "code",
   "execution_count": 8,
   "metadata": {},
   "outputs": [],
   "source": [
    "def SimGame(lineup):\n",
    "    i = 0\n",
    "    runs = 0\n",
    "    outs = 0\n",
    "    runners = 0\n",
    "    inning = 1\n",
    "    while inning <= 9:\n",
    "        outs = 0\n",
    "        runners = 0\n",
    "        while outs < 3:\n",
    "            batter = lineup[i]\n",
    "            # takes in batter, runners on base\n",
    "            # returns runs scored, outs recorded on play, ending baserunners\n",
    "            (add_runs,add_outs,runners) = AtBat(batter,runners)\n",
    "            if i == 8:\n",
    "                i = 0\n",
    "            else:\n",
    "                i += 1\n",
    "            runs += add_runs\n",
    "            outs += add_outs\n",
    "        #print(\"End inning \",inning,runs,\"runs\")\n",
    "        inning += 1\n",
    "    #print (runs)\n",
    "    return runs"
   ]
  },
  {
   "cell_type": "code",
   "execution_count": 9,
   "metadata": {},
   "outputs": [],
   "source": [
    "def SimGames(lineup,n):\n",
    "    run_list = []\n",
    "    for i in range(0,n):\n",
    "        run_list.append(SimGame(lineup))\n",
    "    return run_list"
   ]
  },
  {
   "cell_type": "code",
   "execution_count": 10,
   "metadata": {},
   "outputs": [
    {
     "name": "stdout",
     "output_type": "stream",
     "text": [
      "3B: 0.318/0.4/0.455\n",
      "1B: 0.359/0.41/0.587\n",
      "DH: 0.326/0.38/0.62\n",
      "RF: 0.319/0.36/0.532\n",
      "2B: 0.347/0.36/0.398\n",
      "LF: 0.283/0.34/0.435\n",
      "CF: 0.269/0.32/0.376\n",
      "C: 0.247/0.3/0.398\n",
      "SS: 0.258/0.31/0.323\n"
     ]
    }
   ],
   "source": [
    "getSlash(lineup)"
   ]
  },
  {
   "cell_type": "code",
   "execution_count": 11,
   "metadata": {},
   "outputs": [],
   "source": [
    "run_list = SimGames(lineup, 100000)"
   ]
  },
  {
   "cell_type": "code",
   "execution_count": 12,
   "metadata": {},
   "outputs": [
    {
     "data": {
      "text/plain": [
       "4.55336"
      ]
     },
     "execution_count": 12,
     "metadata": {},
     "output_type": "execute_result"
    }
   ],
   "source": [
    "np.mean(run_list)"
   ]
  },
  {
   "cell_type": "code",
   "execution_count": null,
   "metadata": {},
   "outputs": [],
   "source": []
  }
 ],
 "metadata": {
  "kernelspec": {
   "display_name": "Python 3",
   "language": "python",
   "name": "python3"
  },
  "language_info": {
   "codemirror_mode": {
    "name": "ipython",
    "version": 3
   },
   "file_extension": ".py",
   "mimetype": "text/x-python",
   "name": "python",
   "nbconvert_exporter": "python",
   "pygments_lexer": "ipython3",
   "version": "3.7.6"
  }
 },
 "nbformat": 4,
 "nbformat_minor": 4
}
